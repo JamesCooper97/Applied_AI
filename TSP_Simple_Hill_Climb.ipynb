{
 "cells": [
  {
   "cell_type": "markdown",
   "id": "fd604c57-5a75-4860-b65b-abaafefcdfbf",
   "metadata": {},
   "source": [
    "# Traveling Salesman the Simple Hill Climb Method"
   ]
  },
  {
   "cell_type": "code",
   "execution_count": 30,
   "id": "1e07cf36-ed34-46b2-9375-d89ff298b7ee",
   "metadata": {},
   "outputs": [],
   "source": [
    "import numpy as np\n",
    "import random"
   ]
  },
  {
   "cell_type": "code",
   "execution_count": 69,
   "id": "177632be-c0b4-4068-b386-db49e2abee2f",
   "metadata": {},
   "outputs": [],
   "source": [
    "def load_cities(filename):\n",
    "    with open(filename, \"r\") as file:\n",
    "        city_distances_raw = []\n",
    "        city_distances = []\n",
    "        cities = []\n",
    "        raw_data = file.readlines()\n",
    "        for line in raw_data:\n",
    "            city_distances_raw = line.split(\",\")\n",
    "            for i in city_distances_raw:\n",
    "                city_distances.append(i.replace(\"\\n\",\"\"))\n",
    "                i = \"\"\n",
    "            cities.append(city_distances)\n",
    "    return cities"
   ]
  },
  {
   "cell_type": "code",
   "execution_count": 70,
   "id": "902d0a13-a469-46ce-b31b-9f719986cf9e",
   "metadata": {},
   "outputs": [],
   "source": [
    "def tsp_simple_hill_climb():\n",
    "    cities_matrix = load_cities(\"TSP_Cities_Matrix.txt\")\n",
    "    \n",
    "    \n",
    "    "
   ]
  },
  {
   "cell_type": "code",
   "execution_count": 71,
   "id": "cff6e2f8-9b67-451a-8e4e-31d045c8a098",
   "metadata": {},
   "outputs": [],
   "source": [
    "tsp_simple_hill_climb()"
   ]
  },
  {
   "cell_type": "code",
   "execution_count": null,
   "id": "d55a2a1f-4965-4d06-a18e-5cc549677616",
   "metadata": {},
   "outputs": [],
   "source": []
  }
 ],
 "metadata": {
  "kernelspec": {
   "display_name": "Python 3 (ipykernel)",
   "language": "python",
   "name": "python3"
  },
  "language_info": {
   "codemirror_mode": {
    "name": "ipython",
    "version": 3
   },
   "file_extension": ".py",
   "mimetype": "text/x-python",
   "name": "python",
   "nbconvert_exporter": "python",
   "pygments_lexer": "ipython3",
   "version": "3.12.6"
  }
 },
 "nbformat": 4,
 "nbformat_minor": 5
}
